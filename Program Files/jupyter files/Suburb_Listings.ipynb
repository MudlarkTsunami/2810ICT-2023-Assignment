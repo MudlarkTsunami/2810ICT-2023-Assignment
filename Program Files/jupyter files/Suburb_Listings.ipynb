{
 "cells": [
  {
   "cell_type": "code",
   "execution_count": 3,
   "id": "540a98ab",
   "metadata": {},
   "outputs": [],
   "source": [
    "# Library Imports\n",
    "\n",
    "import pandas as pd \n",
    "\n",
    "# NOTE!!! CODE REQUIRED TO RECIEVE INPUT VARIABLES  sub, s_date, e_date\n",
    "\n",
    "# TEST\n",
    "sub = 'Mosman'\n",
    "s_date = '19/01/2019'\n",
    "e_date = '19/02/2019'"
   ]
  },
  {
   "cell_type": "code",
   "execution_count": 4,
   "id": "9bbc53c7",
   "metadata": {},
   "outputs": [
    {
     "name": "stderr",
     "output_type": "stream",
     "text": [
      "C:\\Users\\zhard\\AppData\\Local\\Temp\\ipykernel_28232\\1088893166.py:1: DtypeWarning: Columns (43,61,62,87) have mixed types. Specify dtype option on import or set low_memory=False.\n",
      "  listings_df = pd.read_csv(\"Data/listings_dec18.csv\")\n"
     ]
    }
   ],
   "source": [
    "listings_df = pd.read_csv(\"Data/listings_dec18.csv\")\n",
    "calendar_df = pd.read_csv(\"Data/calendar_dec18.csv\")\n",
    "\n",
    "# Datframe Convertions\n",
    "\n",
    "#date to datetime datatype\n",
    "calendar_df['date'] = pd.to_datetime(calendar_df['date'])\n",
    "\n",
    "#listing_id to id in calendar_df\n",
    "calendar_df.rename(columns={'listing_id': 'id'}, inplace=True)"
   ]
  },
  {
   "cell_type": "code",
   "execution_count": 5,
   "id": "4e28aae3",
   "metadata": {},
   "outputs": [],
   "source": [
    "# Define Functions for Filtered Dataframe Creation\n",
    "\n",
    "# Filtering by suburb\n",
    "def suburb_filtered_listings(listings_df, sub):\n",
    "    fsub_df = listings_df[listings_df['neighbourhood'].str.lower() == sub.lower()]\n",
    "    return fsub_df\n",
    "    # Outputs data frame containing filtered listings \n",
    "\n",
    "# Filtering by dates\n",
    "def date_filtered_listings(calendar_df,s_date, e_date):\n",
    "    fdate_df = calendar_df[((calendar_df['date'] > s_date) & (calendar_df['date'] < e_date))]\n",
    "    return fdate_df\n",
    "    # Outputs data frame containing filtered listings "
   ]
  },
  {
   "cell_type": "code",
   "execution_count": 6,
   "id": "856c390d",
   "metadata": {
    "scrolled": true
   },
   "outputs": [],
   "source": [
    "# Execute functions\n",
    "fsub_df = suburb_filtered_listings(listings_df, sub)\n",
    "fdate_df = date_filtered_listings(calendar_df,s_date, e_date)\n"
   ]
  },
  {
   "cell_type": "code",
   "execution_count": 10,
   "id": "1a872e06",
   "metadata": {},
   "outputs": [
    {
     "name": "stdout",
     "output_type": "stream",
     "text": [
      "<class 'pandas.core.frame.DataFrame'>\n",
      "Index: 505 entries, 0 to 15136\n",
      "Data columns (total 97 columns):\n",
      " #   Column                            Non-Null Count  Dtype         \n",
      "---  ------                            --------------  -----         \n",
      " 0   id                                505 non-null    int64         \n",
      " 1   listing_url                       505 non-null    object        \n",
      " 2   scrape_id                         505 non-null    int64         \n",
      " 3   last_scraped                      505 non-null    object        \n",
      " 4   name                              505 non-null    object        \n",
      " 5   summary                           493 non-null    object        \n",
      " 6   space                             367 non-null    object        \n",
      " 7   description                       498 non-null    object        \n",
      " 8   experiences_offered               505 non-null    object        \n",
      " 9   neighborhood_overview             344 non-null    object        \n",
      " 10  notes                             237 non-null    object        \n",
      " 11  transit                           287 non-null    object        \n",
      " 12  access                            320 non-null    object        \n",
      " 13  interaction                       301 non-null    object        \n",
      " 14  house_rules                       323 non-null    object        \n",
      " 15  thumbnail_url                     0 non-null      float64       \n",
      " 16  medium_url                        0 non-null      float64       \n",
      " 17  picture_url                       505 non-null    object        \n",
      " 18  xl_picture_url                    0 non-null      float64       \n",
      " 19  host_id                           505 non-null    int64         \n",
      " 20  host_url                          505 non-null    object        \n",
      " 21  host_name                         505 non-null    object        \n",
      " 22  host_since                        505 non-null    object        \n",
      " 23  host_location                     504 non-null    object        \n",
      " 24  host_about                        283 non-null    object        \n",
      " 25  host_response_time                306 non-null    object        \n",
      " 26  host_response_rate                306 non-null    object        \n",
      " 27  host_acceptance_rate              0 non-null      float64       \n",
      " 28  host_is_superhost                 505 non-null    object        \n",
      " 29  host_thumbnail_url                505 non-null    object        \n",
      " 30  host_picture_url                  505 non-null    object        \n",
      " 31  host_neighbourhood                419 non-null    object        \n",
      " 32  host_listings_count               505 non-null    float64       \n",
      " 33  host_total_listings_count         505 non-null    float64       \n",
      " 34  host_verifications                505 non-null    object        \n",
      " 35  host_has_profile_pic              505 non-null    object        \n",
      " 36  host_identity_verified            505 non-null    object        \n",
      " 37  street                            505 non-null    object        \n",
      " 38  neighbourhood                     505 non-null    object        \n",
      " 39  neighbourhood_cleansed            505 non-null    object        \n",
      " 40  neighbourhood_group_cleansed      0 non-null      float64       \n",
      " 41  city                              505 non-null    object        \n",
      " 42  state                             498 non-null    object        \n",
      " 43  zipcode                           502 non-null    object        \n",
      " 44  market                            505 non-null    object        \n",
      " 45  smart_location                    505 non-null    object        \n",
      " 46  country_code                      505 non-null    object        \n",
      " 47  country                           505 non-null    object        \n",
      " 48  latitude                          505 non-null    float64       \n",
      " 49  longitude                         505 non-null    float64       \n",
      " 50  is_location_exact                 505 non-null    object        \n",
      " 51  property_type                     505 non-null    object        \n",
      " 52  room_type                         505 non-null    object        \n",
      " 53  accommodates                      505 non-null    int64         \n",
      " 54  bathrooms                         505 non-null    float64       \n",
      " 55  bedrooms                          504 non-null    float64       \n",
      " 56  beds                              504 non-null    float64       \n",
      " 57  bed_type                          505 non-null    object        \n",
      " 58  amenities                         505 non-null    object        \n",
      " 59  square_feet                       2 non-null      float64       \n",
      " 60  price                             505 non-null    object        \n",
      " 61  weekly_price                      50 non-null     object        \n",
      " 62  monthly_price                     28 non-null     object        \n",
      " 63  security_deposit                  348 non-null    object        \n",
      " 64  cleaning_fee                      405 non-null    object        \n",
      " 65  guests_included                   505 non-null    int64         \n",
      " 66  extra_people                      505 non-null    object        \n",
      " 67  minimum_nights                    505 non-null    int64         \n",
      " 68  maximum_nights                    505 non-null    int64         \n",
      " 69  calendar_updated                  505 non-null    object        \n",
      " 70  has_availability                  505 non-null    object        \n",
      " 71  availability_30                   505 non-null    int64         \n",
      " 72  availability_60                   505 non-null    int64         \n",
      " 73  availability_90                   505 non-null    int64         \n",
      " 74  availability_365                  505 non-null    int64         \n",
      " 75  calendar_last_scraped             505 non-null    object        \n",
      " 76  number_of_reviews                 505 non-null    int64         \n",
      " 77  first_review                      310 non-null    object        \n",
      " 78  last_review                       310 non-null    object        \n",
      " 79  review_scores_rating              298 non-null    float64       \n",
      " 80  review_scores_accuracy            298 non-null    float64       \n",
      " 81  review_scores_cleanliness         298 non-null    float64       \n",
      " 82  review_scores_checkin             298 non-null    float64       \n",
      " 83  review_scores_communication       298 non-null    float64       \n",
      " 84  review_scores_location            298 non-null    float64       \n",
      " 85  review_scores_value               298 non-null    float64       \n",
      " 86  requires_license                  505 non-null    object        \n",
      " 87  license                           0 non-null      object        \n",
      " 88  jurisdiction_names                0 non-null      float64       \n",
      " 89  instant_bookable                  505 non-null    object        \n",
      " 90  is_business_travel_ready          505 non-null    object        \n",
      " 91  cancellation_policy               505 non-null    object        \n",
      " 92  require_guest_profile_picture     505 non-null    object        \n",
      " 93  require_guest_phone_verification  505 non-null    object        \n",
      " 94  reviews_per_month                 310 non-null    float64       \n",
      " 95  date                              505 non-null    datetime64[ns]\n",
      " 96  available                         505 non-null    object        \n",
      "dtypes: datetime64[ns](1), float64(22), int64(12), object(62)\n",
      "memory usage: 386.6+ KB\n"
     ]
    }
   ],
   "source": [
    "# Merges both filtered dataframes based on listing id\n",
    "\n",
    "f_df = pd.merge (fsub_df, fdate_df, on='id')\n",
    "\n",
    "#Attribute Manipulation \n",
    "\n",
    "# Drop Unneed Attributes\n",
    "f_df = f_df.drop('calculated_host_listings_count', axis=1)\n",
    "f_df = f_df.drop('price_y', axis=1)\n",
    "\n",
    "# price_x to price in f_df\n",
    "f_df.rename(columns={'price_x': 'price'}, inplace=True)\n",
    "\n",
    "# sort \n",
    "f_df = f_df.sort_values(by=['id'])\n",
    "\n",
    "#Drop Duplicates\n",
    "f_df = f_df.drop_duplicates(subset='id', keep='first')\n",
    "f_df.info()"
   ]
  },
  {
   "cell_type": "code",
   "execution_count": 85,
   "id": "226fea73",
   "metadata": {},
   "outputs": [],
   "source": [
    "# Export filtered data\n",
    "f_df.to_csv('fitered_suburb_data.csv', index=False)"
   ]
  }
 ],
 "metadata": {
  "kernelspec": {
   "display_name": "Python 3 (ipykernel)",
   "language": "python",
   "name": "python3"
  },
  "language_info": {
   "codemirror_mode": {
    "name": "ipython",
    "version": 3
   },
   "file_extension": ".py",
   "mimetype": "text/x-python",
   "name": "python",
   "nbconvert_exporter": "python",
   "pygments_lexer": "ipython3",
   "version": "3.9.13"
  }
 },
 "nbformat": 4,
 "nbformat_minor": 5
}
